{
 "cells": [
  {
   "cell_type": "code",
   "execution_count": 1,
   "id": "dd3ffde0-38c2-47ac-af93-518e374e0191",
   "metadata": {},
   "outputs": [],
   "source": [
    "import pandas as pd\n",
    "import numpy as np\n",
    "import matplotlib.pyplot as plt\n",
    "import seaborn as sns\n",
    "import nltk\n",
    "import scipy\n",
    "import re\n",
    "from scipy import spatial\n",
    "from scipy.linalg import triu \n",
    "from nltk.tokenize.toktok import ToktokTokenizer\n",
    "from nltk.corpus import stopwords\n",
    "from nltk.tokenize import sent_tokenize, word_tokenize\n",
    "from nltk.stem import PorterStemmer\n",
    "tokenizer = ToktokTokenizer()\n",
    "import gensim\n",
    "from gensim.models import Word2Vec , KeyedVectors\n",
    "import itertools\n",
    "from sklearn.feature_extraction.text import TfidfVectorizer\n",
    "from sklearn.decomposition import PCA\n",
    "from sklearn.metrics.pairwise import linear_kernel\n",
    "import warnings\n",
    "warnings.filterwarnings(action = 'ignore')"
   ]
  },
  {
   "cell_type": "code",
   "execution_count": 2,
   "id": "bf247b19-cd8f-4fc5-a63a-e01333181fe7",
   "metadata": {},
   "outputs": [
    {
     "name": "stdout",
     "output_type": "stream",
     "text": [
      "<class 'pandas.core.frame.DataFrame'>\n",
      "RangeIndex: 20002 entries, 0 to 20001\n",
      "Data columns (total 15 columns):\n",
      " #   Column                   Non-Null Count  Dtype  \n",
      "---  ------                   --------------  -----  \n",
      " 0   uniq_id                  20000 non-null  object \n",
      " 1   crawl_timestamp          20000 non-null  object \n",
      " 2   product_url              20000 non-null  object \n",
      " 3   product_name             20000 non-null  object \n",
      " 4   product_category_tree    20000 non-null  object \n",
      " 5   pid                      20000 non-null  object \n",
      " 6   retail_price             19922 non-null  float64\n",
      " 7   discounted_price         19922 non-null  float64\n",
      " 8   image                    19997 non-null  object \n",
      " 9   is_FK_Advantage_product  20000 non-null  object \n",
      " 10  description              19998 non-null  object \n",
      " 11  product_rating           20000 non-null  object \n",
      " 12  overall_rating           20000 non-null  object \n",
      " 13  brand                    14136 non-null  object \n",
      " 14  product_specifications   19986 non-null  object \n",
      "dtypes: float64(2), object(13)\n",
      "memory usage: 2.3+ MB\n"
     ]
    }
   ],
   "source": [
    "data=pd.read_csv(\"flipkart_com-ecommerce_sample.csv\")\n",
    "data.info()"
   ]
  },
  {
   "cell_type": "code",
   "execution_count": 3,
   "id": "c94259d8-276e-45a8-8c07-7108ec8302b4",
   "metadata": {},
   "outputs": [],
   "source": [
    "# made a new length column to give the total length of the 'description'\n",
    "data['length']=data['description'].str.len()"
   ]
  },
  {
   "cell_type": "code",
   "execution_count": 4,
   "id": "4630261d-f9bc-4f35-abf9-2d6b381e53ce",
   "metadata": {},
   "outputs": [],
   "source": [
    "# extraction of no of words \n",
    "data['no_of_words'] = data.description.apply(lambda x: len(str(x).split()) if isinstance(x, str) else 0)"
   ]
  },
  {
   "cell_type": "code",
   "execution_count": 5,
   "id": "70da4c4f-608f-4029-bee2-d7b7f0a248ab",
   "metadata": {},
   "outputs": [
    {
     "data": {
      "text/html": [
       "<div>\n",
       "<style scoped>\n",
       "    .dataframe tbody tr th:only-of-type {\n",
       "        vertical-align: middle;\n",
       "    }\n",
       "\n",
       "    .dataframe tbody tr th {\n",
       "        vertical-align: top;\n",
       "    }\n",
       "\n",
       "    .dataframe thead th {\n",
       "        text-align: right;\n",
       "    }\n",
       "</style>\n",
       "<table border=\"1\" class=\"dataframe\">\n",
       "  <thead>\n",
       "    <tr style=\"text-align: right;\">\n",
       "      <th></th>\n",
       "      <th>uniq_id</th>\n",
       "      <th>crawl_timestamp</th>\n",
       "      <th>product_url</th>\n",
       "      <th>product_name</th>\n",
       "      <th>product_category_tree</th>\n",
       "      <th>pid</th>\n",
       "      <th>retail_price</th>\n",
       "      <th>discounted_price</th>\n",
       "      <th>image</th>\n",
       "      <th>is_FK_Advantage_product</th>\n",
       "      <th>description</th>\n",
       "      <th>product_rating</th>\n",
       "      <th>overall_rating</th>\n",
       "      <th>brand</th>\n",
       "      <th>product_specifications</th>\n",
       "      <th>length</th>\n",
       "      <th>no_of_words</th>\n",
       "    </tr>\n",
       "  </thead>\n",
       "  <tbody>\n",
       "    <tr>\n",
       "      <th>0</th>\n",
       "      <td>c2d766ca982eca8304150849735ffef9</td>\n",
       "      <td>2016-03-25 22:59:23 +0000</td>\n",
       "      <td>http://www.flipkart.com/alisha-solid-women-s-c...</td>\n",
       "      <td>Alisha Solid Women's Cycling Shorts</td>\n",
       "      <td>[\"Clothing &gt;&gt; Women's Clothing &gt;&gt; Lingerie, Sl...</td>\n",
       "      <td>SRTEH2FF9KEDEFGF</td>\n",
       "      <td>999.0</td>\n",
       "      <td>379.0</td>\n",
       "      <td>[\"http://img5a.flixcart.com/image/short/u/4/a/...</td>\n",
       "      <td>False</td>\n",
       "      <td>Key Features of Alisha Solid Women's Cycling S...</td>\n",
       "      <td>No rating available</td>\n",
       "      <td>No rating available</td>\n",
       "      <td>Alisha</td>\n",
       "      <td>{\"product_specification\"=&gt;[{\"key\"=&gt;\"Number of ...</td>\n",
       "      <td>410.0</td>\n",
       "      <td>64</td>\n",
       "    </tr>\n",
       "    <tr>\n",
       "      <th>1</th>\n",
       "      <td>7f7036a6d550aaa89d34c77bd39a5e48</td>\n",
       "      <td>2016-03-25 22:59:23 +0000</td>\n",
       "      <td>http://www.flipkart.com/fabhomedecor-fabric-do...</td>\n",
       "      <td>FabHomeDecor Fabric Double Sofa Bed</td>\n",
       "      <td>[\"Furniture &gt;&gt; Living Room Furniture &gt;&gt; Sofa B...</td>\n",
       "      <td>SBEEH3QGU7MFYJFY</td>\n",
       "      <td>32157.0</td>\n",
       "      <td>22646.0</td>\n",
       "      <td>[\"http://img6a.flixcart.com/image/sofa-bed/j/f...</td>\n",
       "      <td>False</td>\n",
       "      <td>FabHomeDecor Fabric Double Sofa Bed (Finish Co...</td>\n",
       "      <td>No rating available</td>\n",
       "      <td>No rating available</td>\n",
       "      <td>FabHomeDecor</td>\n",
       "      <td>{\"product_specification\"=&gt;[{\"key\"=&gt;\"Installati...</td>\n",
       "      <td>4433.0</td>\n",
       "      <td>752</td>\n",
       "    </tr>\n",
       "    <tr>\n",
       "      <th>2</th>\n",
       "      <td>f449ec65dcbc041b6ae5e6a32717d01b</td>\n",
       "      <td>2016-03-25 22:59:23 +0000</td>\n",
       "      <td>http://www.flipkart.com/aw-bellies/p/itmeh4grg...</td>\n",
       "      <td>AW Bellies</td>\n",
       "      <td>[\"Footwear &gt;&gt; Women's Footwear &gt;&gt; Ballerinas &gt;...</td>\n",
       "      <td>SHOEH4GRSUBJGZXE</td>\n",
       "      <td>999.0</td>\n",
       "      <td>499.0</td>\n",
       "      <td>[\"http://img5a.flixcart.com/image/shoe/7/z/z/r...</td>\n",
       "      <td>False</td>\n",
       "      <td>Key Features of AW Bellies Sandals Wedges Heel...</td>\n",
       "      <td>No rating available</td>\n",
       "      <td>No rating available</td>\n",
       "      <td>AW</td>\n",
       "      <td>{\"product_specification\"=&gt;[{\"key\"=&gt;\"Ideal For\"...</td>\n",
       "      <td>650.0</td>\n",
       "      <td>107</td>\n",
       "    </tr>\n",
       "    <tr>\n",
       "      <th>3</th>\n",
       "      <td>0973b37acd0c664e3de26e97e5571454</td>\n",
       "      <td>2016-03-25 22:59:23 +0000</td>\n",
       "      <td>http://www.flipkart.com/alisha-solid-women-s-c...</td>\n",
       "      <td>Alisha Solid Women's Cycling Shorts</td>\n",
       "      <td>[\"Clothing &gt;&gt; Women's Clothing &gt;&gt; Lingerie, Sl...</td>\n",
       "      <td>SRTEH2F6HUZMQ6SJ</td>\n",
       "      <td>699.0</td>\n",
       "      <td>267.0</td>\n",
       "      <td>[\"http://img5a.flixcart.com/image/short/6/2/h/...</td>\n",
       "      <td>False</td>\n",
       "      <td>Key Features of Alisha Solid Women's Cycling S...</td>\n",
       "      <td>No rating available</td>\n",
       "      <td>No rating available</td>\n",
       "      <td>Alisha</td>\n",
       "      <td>{\"product_specification\"=&gt;[{\"key\"=&gt;\"Number of ...</td>\n",
       "      <td>403.0</td>\n",
       "      <td>63</td>\n",
       "    </tr>\n",
       "    <tr>\n",
       "      <th>4</th>\n",
       "      <td>bc940ea42ee6bef5ac7cea3fb5cfbee7</td>\n",
       "      <td>2016-03-25 22:59:23 +0000</td>\n",
       "      <td>http://www.flipkart.com/sicons-all-purpose-arn...</td>\n",
       "      <td>Sicons All Purpose Arnica Dog Shampoo</td>\n",
       "      <td>[\"Pet Supplies &gt;&gt; Grooming &gt;&gt; Skin &amp; Coat Care...</td>\n",
       "      <td>PSOEH3ZYDMSYARJ5</td>\n",
       "      <td>220.0</td>\n",
       "      <td>210.0</td>\n",
       "      <td>[\"http://img5a.flixcart.com/image/pet-shampoo/...</td>\n",
       "      <td>False</td>\n",
       "      <td>Specifications of Sicons All Purpose Arnica Do...</td>\n",
       "      <td>No rating available</td>\n",
       "      <td>No rating available</td>\n",
       "      <td>Sicons</td>\n",
       "      <td>{\"product_specification\"=&gt;[{\"key\"=&gt;\"Pet Type\",...</td>\n",
       "      <td>248.0</td>\n",
       "      <td>40</td>\n",
       "    </tr>\n",
       "  </tbody>\n",
       "</table>\n",
       "</div>"
      ],
      "text/plain": [
       "                            uniq_id            crawl_timestamp  \\\n",
       "0  c2d766ca982eca8304150849735ffef9  2016-03-25 22:59:23 +0000   \n",
       "1  7f7036a6d550aaa89d34c77bd39a5e48  2016-03-25 22:59:23 +0000   \n",
       "2  f449ec65dcbc041b6ae5e6a32717d01b  2016-03-25 22:59:23 +0000   \n",
       "3  0973b37acd0c664e3de26e97e5571454  2016-03-25 22:59:23 +0000   \n",
       "4  bc940ea42ee6bef5ac7cea3fb5cfbee7  2016-03-25 22:59:23 +0000   \n",
       "\n",
       "                                         product_url  \\\n",
       "0  http://www.flipkart.com/alisha-solid-women-s-c...   \n",
       "1  http://www.flipkart.com/fabhomedecor-fabric-do...   \n",
       "2  http://www.flipkart.com/aw-bellies/p/itmeh4grg...   \n",
       "3  http://www.flipkart.com/alisha-solid-women-s-c...   \n",
       "4  http://www.flipkart.com/sicons-all-purpose-arn...   \n",
       "\n",
       "                            product_name  \\\n",
       "0    Alisha Solid Women's Cycling Shorts   \n",
       "1    FabHomeDecor Fabric Double Sofa Bed   \n",
       "2                             AW Bellies   \n",
       "3    Alisha Solid Women's Cycling Shorts   \n",
       "4  Sicons All Purpose Arnica Dog Shampoo   \n",
       "\n",
       "                               product_category_tree               pid  \\\n",
       "0  [\"Clothing >> Women's Clothing >> Lingerie, Sl...  SRTEH2FF9KEDEFGF   \n",
       "1  [\"Furniture >> Living Room Furniture >> Sofa B...  SBEEH3QGU7MFYJFY   \n",
       "2  [\"Footwear >> Women's Footwear >> Ballerinas >...  SHOEH4GRSUBJGZXE   \n",
       "3  [\"Clothing >> Women's Clothing >> Lingerie, Sl...  SRTEH2F6HUZMQ6SJ   \n",
       "4  [\"Pet Supplies >> Grooming >> Skin & Coat Care...  PSOEH3ZYDMSYARJ5   \n",
       "\n",
       "   retail_price  discounted_price  \\\n",
       "0         999.0             379.0   \n",
       "1       32157.0           22646.0   \n",
       "2         999.0             499.0   \n",
       "3         699.0             267.0   \n",
       "4         220.0             210.0   \n",
       "\n",
       "                                               image is_FK_Advantage_product  \\\n",
       "0  [\"http://img5a.flixcart.com/image/short/u/4/a/...                   False   \n",
       "1  [\"http://img6a.flixcart.com/image/sofa-bed/j/f...                   False   \n",
       "2  [\"http://img5a.flixcart.com/image/shoe/7/z/z/r...                   False   \n",
       "3  [\"http://img5a.flixcart.com/image/short/6/2/h/...                   False   \n",
       "4  [\"http://img5a.flixcart.com/image/pet-shampoo/...                   False   \n",
       "\n",
       "                                         description       product_rating  \\\n",
       "0  Key Features of Alisha Solid Women's Cycling S...  No rating available   \n",
       "1  FabHomeDecor Fabric Double Sofa Bed (Finish Co...  No rating available   \n",
       "2  Key Features of AW Bellies Sandals Wedges Heel...  No rating available   \n",
       "3  Key Features of Alisha Solid Women's Cycling S...  No rating available   \n",
       "4  Specifications of Sicons All Purpose Arnica Do...  No rating available   \n",
       "\n",
       "        overall_rating         brand  \\\n",
       "0  No rating available        Alisha   \n",
       "1  No rating available  FabHomeDecor   \n",
       "2  No rating available            AW   \n",
       "3  No rating available        Alisha   \n",
       "4  No rating available        Sicons   \n",
       "\n",
       "                              product_specifications  length  no_of_words  \n",
       "0  {\"product_specification\"=>[{\"key\"=>\"Number of ...   410.0           64  \n",
       "1  {\"product_specification\"=>[{\"key\"=>\"Installati...  4433.0          752  \n",
       "2  {\"product_specification\"=>[{\"key\"=>\"Ideal For\"...   650.0          107  \n",
       "3  {\"product_specification\"=>[{\"key\"=>\"Number of ...   403.0           63  \n",
       "4  {\"product_specification\"=>[{\"key\"=>\"Pet Type\",...   248.0           40  "
      ]
     },
     "execution_count": 5,
     "metadata": {},
     "output_type": "execute_result"
    }
   ],
   "source": [
    "data.head()"
   ]
  },
  {
   "cell_type": "code",
   "execution_count": 6,
   "id": "212a0c8d-d549-4e45-9dc7-2451b9638f4e",
   "metadata": {},
   "outputs": [
    {
     "data": {
      "image/png": "[encoded data removed]",
      "text/plain": [
       "<Figure size 640x480 with 1 Axes>"
      ]
     },
     "metadata": {},
     "output_type": "display_data"
    }
   ],
   "source": [
    "bins=[0,50,75, np.inf]\n",
    "data['bins']=pd.cut(data.no_of_words, bins=[0,100,300,500,800, np.inf],\n",
    "labels=['0-100', '100-200', '200-500','500-800' ,'>800'])\n",
    "words_distribution = data.groupby('bins').size().reset_index().rename(columns={0:'word_counts'})\n",
    "sns.barplot(x='bins', y='word_counts', data=words_distribution).set_title(\"Word distribution per bin\")\n",
    "plt.show()"
   ]
  },
  {
   "cell_type": "markdown",
   "id": "94d85bb4-424c-4b76-b36b-2491ee3717dd",
   "metadata": {},
   "source": [
    "# Data Preprocessing"
   ]
  },
  {
   "cell_type": "code",
   "execution_count": 7,
   "id": "fb7ff24e-4c69-4b86-aa94-094a4cd75dad",
   "metadata": {},
   "outputs": [],
   "source": [
    "# Number of missing values in each column\n",
    "missing = pd.DataFrame(data.isnull().sum()).rename(columns = {0:'missing'})"
   ]
  },
  {
   "cell_type": "code",
   "execution_count": 8,
   "id": "def38a24-1fba-40c0-bab3-99072301fc31",
   "metadata": {},
   "outputs": [],
   "source": [
    "# Create a percentage of missing values\n",
    "missing['percent'] = missing['missing'] / len(data)"
   ]
  },
  {
   "cell_type": "code",
   "execution_count": 9,
   "id": "238edd20-22d0-4526-972f-bddb9f77c71c",
   "metadata": {},
   "outputs": [
    {
     "data": {
      "text/html": [
       "<div>\n",
       "<style scoped>\n",
       "    .dataframe tbody tr th:only-of-type {\n",
       "        vertical-align: middle;\n",
       "    }\n",
       "\n",
       "    .dataframe tbody tr th {\n",
       "        vertical-align: top;\n",
       "    }\n",
       "\n",
       "    .dataframe thead th {\n",
       "        text-align: right;\n",
       "    }\n",
       "</style>\n",
       "<table border=\"1\" class=\"dataframe\">\n",
       "  <thead>\n",
       "    <tr style=\"text-align: right;\">\n",
       "      <th></th>\n",
       "      <th>missing</th>\n",
       "      <th>percent</th>\n",
       "    </tr>\n",
       "  </thead>\n",
       "  <tbody>\n",
       "    <tr>\n",
       "      <th>brand</th>\n",
       "      <td>5866</td>\n",
       "      <td>0.293271</td>\n",
       "    </tr>\n",
       "    <tr>\n",
       "      <th>retail_price</th>\n",
       "      <td>80</td>\n",
       "      <td>0.004000</td>\n",
       "    </tr>\n",
       "    <tr>\n",
       "      <th>discounted_price</th>\n",
       "      <td>80</td>\n",
       "      <td>0.004000</td>\n",
       "    </tr>\n",
       "    <tr>\n",
       "      <th>product_specifications</th>\n",
       "      <td>16</td>\n",
       "      <td>0.000800</td>\n",
       "    </tr>\n",
       "    <tr>\n",
       "      <th>image</th>\n",
       "      <td>5</td>\n",
       "      <td>0.000250</td>\n",
       "    </tr>\n",
       "    <tr>\n",
       "      <th>bins</th>\n",
       "      <td>4</td>\n",
       "      <td>0.000200</td>\n",
       "    </tr>\n",
       "    <tr>\n",
       "      <th>description</th>\n",
       "      <td>4</td>\n",
       "      <td>0.000200</td>\n",
       "    </tr>\n",
       "    <tr>\n",
       "      <th>length</th>\n",
       "      <td>4</td>\n",
       "      <td>0.000200</td>\n",
       "    </tr>\n",
       "    <tr>\n",
       "      <th>overall_rating</th>\n",
       "      <td>2</td>\n",
       "      <td>0.000100</td>\n",
       "    </tr>\n",
       "    <tr>\n",
       "      <th>product_rating</th>\n",
       "      <td>2</td>\n",
       "      <td>0.000100</td>\n",
       "    </tr>\n",
       "    <tr>\n",
       "      <th>uniq_id</th>\n",
       "      <td>2</td>\n",
       "      <td>0.000100</td>\n",
       "    </tr>\n",
       "    <tr>\n",
       "      <th>crawl_timestamp</th>\n",
       "      <td>2</td>\n",
       "      <td>0.000100</td>\n",
       "    </tr>\n",
       "    <tr>\n",
       "      <th>pid</th>\n",
       "      <td>2</td>\n",
       "      <td>0.000100</td>\n",
       "    </tr>\n",
       "    <tr>\n",
       "      <th>product_category_tree</th>\n",
       "      <td>2</td>\n",
       "      <td>0.000100</td>\n",
       "    </tr>\n",
       "    <tr>\n",
       "      <th>product_name</th>\n",
       "      <td>2</td>\n",
       "      <td>0.000100</td>\n",
       "    </tr>\n",
       "    <tr>\n",
       "      <th>product_url</th>\n",
       "      <td>2</td>\n",
       "      <td>0.000100</td>\n",
       "    </tr>\n",
       "    <tr>\n",
       "      <th>is_FK_Advantage_product</th>\n",
       "      <td>2</td>\n",
       "      <td>0.000100</td>\n",
       "    </tr>\n",
       "    <tr>\n",
       "      <th>no_of_words</th>\n",
       "      <td>0</td>\n",
       "      <td>0.000000</td>\n",
       "    </tr>\n",
       "  </tbody>\n",
       "</table>\n",
       "</div>"
      ],
      "text/plain": [
       "                         missing   percent\n",
       "brand                       5866  0.293271\n",
       "retail_price                  80  0.004000\n",
       "discounted_price              80  0.004000\n",
       "product_specifications        16  0.000800\n",
       "image                          5  0.000250\n",
       "bins                           4  0.000200\n",
       "description                    4  0.000200\n",
       "length                         4  0.000200\n",
       "overall_rating                 2  0.000100\n",
       "product_rating                 2  0.000100\n",
       "uniq_id                        2  0.000100\n",
       "crawl_timestamp                2  0.000100\n",
       "pid                            2  0.000100\n",
       "product_category_tree          2  0.000100\n",
       "product_name                   2  0.000100\n",
       "product_url                    2  0.000100\n",
       "is_FK_Advantage_product        2  0.000100\n",
       "no_of_words                    0  0.000000"
      ]
     },
     "execution_count": 9,
     "metadata": {},
     "output_type": "execute_result"
    }
   ],
   "source": [
    "# sorting the values in desending order to see highest count on the top\n",
    "missing.sort_values('percent', ascending = False)"
   ]
  },
  {
   "cell_type": "markdown",
   "id": "ae3129aa-3c5e-4e48-9f9a-f1558a2546de",
   "metadata": {},
   "source": [
    "# Text Preprocessing"
   ]
  },
  {
   "cell_type": "code",
   "execution_count": 10,
   "id": "fc0d6f89-b779-4287-8599-ea3d4c73532c",
   "metadata": {},
   "outputs": [],
   "source": [
    "# Remove punctuation\n",
    "data['description'] = data['description'].str.replace(r'[^\\w\\d\\s]', ' ')"
   ]
  },
  {
   "cell_type": "code",
   "execution_count": 11,
   "id": "441e0039-dece-44c2-a48e-0c42bbe0e0bd",
   "metadata": {},
   "outputs": [],
   "source": [
    "# Replace whitespace between terms with a single space\n",
    "data['description'] = data['description'].str.replace(r'\\s+', ' ')"
   ]
  },
  {
   "cell_type": "code",
   "execution_count": 12,
   "id": "4f3dc131-9f81-4b1a-8479-d6560cf3d072",
   "metadata": {},
   "outputs": [],
   "source": [
    "# Remove leading and trailing whitespace\n",
    "data['description'] = data['description'].str.replace(r'^\\s+|\\s+?$', '')"
   ]
  },
  {
   "cell_type": "code",
   "execution_count": 13,
   "id": "23eff226-98db-4d2a-a1bf-1a3a459b318e",
   "metadata": {},
   "outputs": [],
   "source": [
    "# converting to lower case\n",
    "data['description'] = data['description'].str.lower()"
   ]
  },
  {
   "cell_type": "code",
   "execution_count": 14,
   "id": "c5034951-c048-409d-af32-404c239e4d06",
   "metadata": {},
   "outputs": [],
   "source": [
    "# removing special characters from 'description' column\n",
    "data['description'] = data['description'].str.replace(r'[^a-zA-Z0-9\\s]', '', regex=True)"
   ]
  },
  {
   "cell_type": "code",
   "execution_count": 15,
   "id": "bf6749f6-a9a5-4e05-a007-c6485cd82097",
   "metadata": {},
   "outputs": [
    {
     "data": {
      "text/plain": [
       "0    key features of alisha solid womens cycling sh...\n",
       "1    fabhomedecor fabric double sofa bed finish col...\n",
       "2    key features of aw bellies sandals wedges heel...\n",
       "3    key features of alisha solid womens cycling sh...\n",
       "4    specifications of sicons all purpose arnica do...\n",
       "Name: description, dtype: object"
      ]
     },
     "execution_count": 15,
     "metadata": {},
     "output_type": "execute_result"
    }
   ],
   "source": [
    "data['description'].head()"
   ]
  },
  {
   "cell_type": "code",
   "execution_count": 16,
   "id": "7b986987-dd5f-4fe2-bf40-80f43c6b4d82",
   "metadata": {},
   "outputs": [],
   "source": [
    "# Removing Stop words\n",
    "stop = stopwords.words('english')\n",
    "pattern = r'\\b(?:{})\\b'.format('|'.join(stop))\n",
    "data['description'] = data['description'].str.replace(pattern, '')"
   ]
  },
  {
   "cell_type": "code",
   "execution_count": 17,
   "id": "f938a6f1-1fc2-4ce0-8a88-4dc9c1bc341e",
   "metadata": {},
   "outputs": [],
   "source": [
    "# Removing single characters\n",
    "data['description'] = data['description'].fillna('').astype(str)\n",
    "data['description'] = data['description'].str.replace(r'\\s+', ' ', regex=True)\n",
    "data['description'] = data['description'].apply(lambda x: \" \".join(word for word in x.split() if len(word) > 1))"
   ]
  },
  {
   "cell_type": "code",
   "execution_count": 18,
   "id": "2d5cc328-2366-4ff9-9d73-54dfc92b7c58",
   "metadata": {},
   "outputs": [],
   "source": [
    "# Removing domain related stop words from description\n",
    "specific_stop_words = [ \"rs\",\"flipkart\",\"buy\",\"com\",\"free\",\"day\",\"cash\",\"replacement\",\"guarantee\",\"genuine\",\"key\",\"feature\",\"delivery\",\"products\",\"product\",\"shipping\", \"online\",\"india\",\"shop\" , \"of\" , 'flipkartcom' ,'for','the','and','from','to', 'in','and', 'only','with','on', 'your', 'is','this','at' ,\"it\" , 'you']\n",
    "data['description'] = data['description'].apply(lambda x: \" \".join(x for x in x.split() if x not in specific_stop_words))"
   ]
  },
  {
   "cell_type": "code",
   "execution_count": 19,
   "id": "b797e34a-4b8c-408b-9cc5-5272958c4b05",
   "metadata": {},
   "outputs": [
    {
     "data": {
      "text/plain": [
       "0    features alisha solid womens cycling shorts co...\n",
       "1    fabhomedecor fabric double sofa bed finish col...\n",
       "2    features aw bellies sandals wedges heel casual...\n",
       "3    features alisha solid womens cycling shorts co...\n",
       "4    specifications sicons all purpose arnica dog s...\n",
       "Name: description, dtype: object"
      ]
     },
     "execution_count": 19,
     "metadata": {},
     "output_type": "execute_result"
    }
   ],
   "source": [
    "data['description'].head()"
   ]
  },
  {
   "cell_type": "code",
   "execution_count": 20,
   "id": "d2346396-a2ba-4de1-9b0a-ca84de936f05",
   "metadata": {},
   "outputs": [
    {
     "name": "stdout",
     "output_type": "stream",
     "text": [
      "[('womens', 8088), ('30', 7743), ('features', 7190), ('price', 6696), ('color', 5578), ('details', 5297), ('type', 5248), ('casual', 4916), ('material', 4849), ('fabric', 4845)]\n"
     ]
    },
    {
     "data": {
      "image/png": "[encoded data removed]",
      "text/plain": [
       "<Figure size 640x480 with 1 Axes>"
      ]
     },
     "metadata": {},
     "output_type": "display_data"
    }
   ],
   "source": [
    "#Top frequent words after removing domain related stop words\n",
    "a = data['description'].str.cat(sep=' ')\n",
    "words = nltk.tokenize.word_tokenize(a)\n",
    "word_dist = nltk.FreqDist(words)\n",
    "word_dist.plot(10,cumulative=False)\n",
    "print(word_dist.most_common(10))"
   ]
  },
  {
   "cell_type": "markdown",
   "id": "d247f5fc-2cc4-4612-a366-b25b361133a5",
   "metadata": {},
   "source": [
    "# Content-based Recommendation System"
   ]
  },
  {
   "cell_type": "markdown",
   "id": "b9e257e3-0460-4fee-a0fb-d08b83059e67",
   "metadata": {},
   "source": [
    "### TF-IDF approach"
   ]
  },
  {
   "cell_type": "code",
   "execution_count": 21,
   "id": "3dab12f8-1bf4-4454-a970-54fb47e178ab",
   "metadata": {},
   "outputs": [],
   "source": [
    "#text cleaning\n",
    "data['description'] = data['description'].fillna('')"
   ]
  },
  {
   "cell_type": "code",
   "execution_count": 22,
   "id": "84c10985-2ce9-4bab-8f1e-6dbb5daa6e4c",
   "metadata": {},
   "outputs": [],
   "source": [
    "#define the vectorizer\n",
    "T_vec = TfidfVectorizer(stop_words='english')"
   ]
  },
  {
   "cell_type": "code",
   "execution_count": 23,
   "id": "330b732c-aeec-4ed8-84e6-04738f215e6b",
   "metadata": {},
   "outputs": [],
   "source": [
    "T_vec_matrix = T_vec.fit_transform(data['description'])"
   ]
  },
  {
   "cell_type": "code",
   "execution_count": 24,
   "id": "117b5550-4398-4882-85e4-f3c394dd1c53",
   "metadata": {},
   "outputs": [
    {
     "data": {
      "text/plain": [
       "(20002, 32515)"
      ]
     },
     "execution_count": 24,
     "metadata": {},
     "output_type": "execute_result"
    }
   ],
   "source": [
    "T_vec_matrix.shape"
   ]
  },
  {
   "cell_type": "code",
   "execution_count": 25,
   "id": "13db00ba-6de8-4597-809e-532503a190b8",
   "metadata": {},
   "outputs": [
    {
     "data": {
      "text/plain": [
       "product_name\n",
       "Alisha Solid Women's Cycling Shorts            0\n",
       "FabHomeDecor Fabric Double Sofa Bed            1\n",
       "AW Bellies                                     2\n",
       "Alisha Solid Women's Cycling Shorts            3\n",
       "Sicons All Purpose Arnica Dog Shampoo          4\n",
       "                                           ...  \n",
       "Elite Collection Medium Acrylic Sticker    19997\n",
       "Elite Collection Medium Acrylic Sticker    19998\n",
       "Elite Collection Medium Acrylic Sticker    19999\n",
       "NaN                                        20000\n",
       "NaN                                        20001\n",
       "Length: 20002, dtype: int64"
      ]
     },
     "execution_count": 25,
     "metadata": {},
     "output_type": "execute_result"
    }
   ],
   "source": [
    "# Reversing the map of indices and product\n",
    "product_index = pd.Series(data.index, index=data['product_name']).drop_duplicates()\n",
    "product_index"
   ]
  },
  {
   "cell_type": "code",
   "execution_count": 41,
   "id": "3004ba6d-b2c4-4c09-b338-57216a41c6ca",
   "metadata": {},
   "outputs": [
    {
     "name": "stdin",
     "output_type": "stream",
     "text": [
      "Welcome to flipkart tell me what you want AW Bellies\n"
     ]
    },
    {
     "name": "stdout",
     "output_type": "stream",
     "text": [
      "products list\n",
      "\n",
      "\n",
      "Shopnetix Stylish & Comfort Men's Lace up Mocassins (SNX-4449) Casuals\n",
      "Bootwale Bellies\n",
      "Bootwale Bellies\n",
      "Bootwale Bellies\n",
      "Bootwale Bellies\n",
      "Bootwale Bellies\n",
      "Lee Parke Running Shoes\n",
      "Bootwale Bellies\n",
      "BrandTrendz Bellies\n"
     ]
    }
   ],
   "source": [
    "# Function that takes in product title as input and outputs the mostsimilar product\n",
    "def predict_products(text):\n",
    " # getting index\n",
    " index = product_index[text]\n",
    " # Obtaining the pairwsie similarity scores\n",
    " score_matrix = linear_kernel(T_vec_matrix[index], T_vec_matrix)\n",
    " matching_sc= list(enumerate(score_matrix[0]))\n",
    " # Sort the product based on the similarity scores\n",
    " matching_sc= sorted(matching_sc, key=lambda x: x[1], reverse=True)\n",
    " # Getting the scores of the 10 most similar product\n",
    " matching_sc= matching_sc[1:10]\n",
    " # Getting the product indices\n",
    " product_indices = [i[0] for i in matching_sc]\n",
    " # Show the similar products\n",
    " return data['product_name'].iloc[product_indices]\n",
    "recommended_product = predict_products(input(\"Welcome to flipkart tell me what you want\"))\n",
    "if recommended_product is not None:\n",
    " print (\"products list\")\n",
    " print(\"\\n\")\n",
    " for product_name in recommended_product:\n",
    "   print (product_name)"
   ]
  },
  {
   "cell_type": "code",
   "execution_count": null,
   "id": "d12bfcf4-7183-429e-9031-85dcf4a239ae",
   "metadata": {},
   "outputs": [],
   "source": []
  }
 ],
 "metadata": {
  "kernelspec": {
   "display_name": "Python 3 (ipykernel)",
   "language": "python",
   "name": "python3"
  },
  "language_info": {
   "codemirror_mode": {
    "name": "ipython",
    "version": 3
   },
   "file_extension": ".py",
   "mimetype": "text/x-python",
   "name": "python",
   "nbconvert_exporter": "python",
   "pygments_lexer": "ipython3",
   "version": "3.12.7"
  }
 },
 "nbformat": 4,
 "nbformat_minor": 5
}
