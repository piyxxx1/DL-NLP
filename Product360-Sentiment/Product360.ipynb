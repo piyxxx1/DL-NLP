{
 "cells": [
  {
   "cell_type": "code",
   "execution_count": 97,
   "id": "0d561260-48b6-4f37-a47b-6b38474bed32",
   "metadata": {},
   "outputs": [],
   "source": [
    "#Importing the libraries for building Emotion Classifier\n",
    "import pandas as pd\n",
    "from nltk.corpus import stopwords\n",
    "from nltk.stem.wordnet import WordNetLemmatizer\n",
    "import string\n",
    "from textblob.classifiers import NaiveBayesClassifier\n",
    "from textblob import TextBlob\n",
    "from nltk.corpus import stopwords\n",
    "from nltk.stem import PorterStemmer\n",
    "from textblob import Word\n",
    "from nltk.util import ngrams\n",
    "import re\n",
    "from nltk.tokenize import word_tokenize\n",
    "import matplotlib.pyplot as plt\n",
    "from sklearn.feature_extraction.text import CountVectorizer,TfidfVectorizer\n",
    "from sklearn.decomposition import LatentDirichletAllocation\n",
    "import sklearn.feature_extraction.text as text\n",
    "from sklearn.decomposition import NMF, LatentDirichletAllocation,TruncatedSVD\n",
    "from sklearn import model_selection, preprocessing, linear_model,naive_bayes, metrics, svm\n",
    "import xgboost\n",
    "from sklearn import decomposition, ensemble\n",
    "import numpy, textblob, string\n",
    "import nltk\n",
    "from sklearn.metrics import classification_report\n",
    "from sklearn.metrics import confusion_matrix\n",
    "from sklearn.metrics import accuracy_score\n",
    "from sklearn.metrics import mean_absolute_error\n",
    "import warnings\n",
    "import seaborn as sns\n",
    "import matplotlib.pyplot as plt \n",
    "warnings.filterwarnings('ignore') "
   ]
  },
  {
   "cell_type": "code",
   "execution_count": 2,
   "id": "68282c01-4b58-44c1-aad9-ac60ed9d0c7e",
   "metadata": {},
   "outputs": [
    {
     "data": {
      "text/html": [
       "<div>\n",
       "<style scoped>\n",
       "    .dataframe tbody tr th:only-of-type {\n",
       "        vertical-align: middle;\n",
       "    }\n",
       "\n",
       "    .dataframe tbody tr th {\n",
       "        vertical-align: top;\n",
       "    }\n",
       "\n",
       "    .dataframe thead th {\n",
       "        text-align: right;\n",
       "    }\n",
       "</style>\n",
       "<table border=\"1\" class=\"dataframe\">\n",
       "  <thead>\n",
       "    <tr style=\"text-align: right;\">\n",
       "      <th></th>\n",
       "      <th>sentiment</th>\n",
       "      <th>content</th>\n",
       "    </tr>\n",
       "  </thead>\n",
       "  <tbody>\n",
       "    <tr>\n",
       "      <th>0</th>\n",
       "      <td>joy</td>\n",
       "      <td>On days when I feel close to my partner and ot...</td>\n",
       "    </tr>\n",
       "    <tr>\n",
       "      <th>1</th>\n",
       "      <td>fear</td>\n",
       "      <td>Every time I imagine that someone I love or I ...</td>\n",
       "    </tr>\n",
       "    <tr>\n",
       "      <th>2</th>\n",
       "      <td>anger</td>\n",
       "      <td>When I had been obviously unjustly treated and...</td>\n",
       "    </tr>\n",
       "    <tr>\n",
       "      <th>3</th>\n",
       "      <td>sadness</td>\n",
       "      <td>When I think about the short time that we live...</td>\n",
       "    </tr>\n",
       "    <tr>\n",
       "      <th>4</th>\n",
       "      <td>disgust</td>\n",
       "      <td>At a gathering I found myself involuntarily si...</td>\n",
       "    </tr>\n",
       "  </tbody>\n",
       "</table>\n",
       "</div>"
      ],
      "text/plain": [
       "  sentiment                                            content\n",
       "0       joy  On days when I feel close to my partner and ot...\n",
       "1      fear  Every time I imagine that someone I love or I ...\n",
       "2     anger  When I had been obviously unjustly treated and...\n",
       "3   sadness  When I think about the short time that we live...\n",
       "4   disgust  At a gathering I found myself involuntarily si..."
      ]
     },
     "execution_count": 2,
     "metadata": {},
     "output_type": "execute_result"
    }
   ],
   "source": [
    "data = pd.read_csv('ISEAR_dataset.csv')\n",
    "data.drop('Unnamed: 2', axis=1, inplace=True)\n",
    "data.head()"
   ]
  },
  {
   "cell_type": "code",
   "execution_count": 3,
   "id": "ce94dffb-aaaf-425d-9e6a-b66344c2b6d9",
   "metadata": {},
   "outputs": [
    {
     "name": "stdout",
     "output_type": "stream",
     "text": [
      "<class 'pandas.core.frame.DataFrame'>\n",
      "RangeIndex: 7516 entries, 0 to 7515\n",
      "Data columns (total 2 columns):\n",
      " #   Column     Non-Null Count  Dtype \n",
      "---  ------     --------------  ----- \n",
      " 0   sentiment  7516 non-null   object\n",
      " 1   content    7516 non-null   object\n",
      "dtypes: object(2)\n",
      "memory usage: 117.6+ KB\n"
     ]
    }
   ],
   "source": [
    "data.info()"
   ]
  },
  {
   "cell_type": "code",
   "execution_count": 4,
   "id": "5224d734-6725-4027-8e72-4f860f093fb5",
   "metadata": {},
   "outputs": [
    {
     "data": {
      "text/plain": [
       "(7516, 2)"
      ]
     },
     "execution_count": 4,
     "metadata": {},
     "output_type": "execute_result"
    }
   ],
   "source": [
    "data.shape"
   ]
  },
  {
   "cell_type": "code",
   "execution_count": 5,
   "id": "ce0786c8-26df-4193-8328-ccb11309681e",
   "metadata": {},
   "outputs": [
    {
     "data": {
      "text/plain": [
       "array(['joy', 'fear', 'anger', 'sadness', 'disgust', 'shame', 'guilt',\n",
       "       'guit'], dtype=object)"
      ]
     },
     "execution_count": 5,
     "metadata": {},
     "output_type": "execute_result"
    }
   ],
   "source": [
    "data['sentiment'].unique()"
   ]
  },
  {
   "cell_type": "code",
   "execution_count": 6,
   "id": "40f6cfd4-db76-4c34-b13c-16c003d7002f",
   "metadata": {},
   "outputs": [
    {
     "data": {
      "text/html": [
       "<div>\n",
       "<style scoped>\n",
       "    .dataframe tbody tr th:only-of-type {\n",
       "        vertical-align: middle;\n",
       "    }\n",
       "\n",
       "    .dataframe tbody tr th {\n",
       "        vertical-align: top;\n",
       "    }\n",
       "\n",
       "    .dataframe thead th {\n",
       "        text-align: right;\n",
       "    }\n",
       "</style>\n",
       "<table border=\"1\" class=\"dataframe\">\n",
       "  <thead>\n",
       "    <tr style=\"text-align: right;\">\n",
       "      <th></th>\n",
       "      <th>sentiment</th>\n",
       "      <th>content</th>\n",
       "    </tr>\n",
       "  </thead>\n",
       "  <tbody>\n",
       "    <tr>\n",
       "      <th>count</th>\n",
       "      <td>7516</td>\n",
       "      <td>7516</td>\n",
       "    </tr>\n",
       "    <tr>\n",
       "      <th>unique</th>\n",
       "      <td>8</td>\n",
       "      <td>7449</td>\n",
       "    </tr>\n",
       "    <tr>\n",
       "      <th>top</th>\n",
       "      <td>joy</td>\n",
       "      <td>When my grandfather died.</td>\n",
       "    </tr>\n",
       "    <tr>\n",
       "      <th>freq</th>\n",
       "      <td>1092</td>\n",
       "      <td>8</td>\n",
       "    </tr>\n",
       "  </tbody>\n",
       "</table>\n",
       "</div>"
      ],
      "text/plain": [
       "       sentiment                    content\n",
       "count       7516                       7516\n",
       "unique         8                       7449\n",
       "top          joy  When my grandfather died.\n",
       "freq        1092                          8"
      ]
     },
     "execution_count": 6,
     "metadata": {},
     "output_type": "execute_result"
    }
   ],
   "source": [
    "data.describe()"
   ]
  },
  {
   "cell_type": "markdown",
   "id": "e6e32759-ead3-4ca8-ad42-c0b890e95fcb",
   "metadata": {},
   "source": [
    "# Data Cleaning and Preprocessing"
   ]
  },
  {
   "cell_type": "markdown",
   "id": "38f0a5de-96b1-434a-9591-546ea2a7d53e",
   "metadata": {},
   "source": [
    "### 1-Lowercase\n",
    "### 2-Remove special characters\n",
    "### 3-Remove punctuation\n",
    "### 4-Remove stop words\n",
    "### 5-Correct spelling\n",
    "### 6-Normalization"
   ]
  },
  {
   "cell_type": "code",
   "execution_count": 7,
   "id": "8163fa3a-bf2b-4744-91bd-34c56603a76d",
   "metadata": {},
   "outputs": [],
   "source": [
    "# Convert uppercase letters to lowercase.\n",
    "data['content'] = data['content'].apply(lambda a: \" \".join(a.lower() for a in a.split()))"
   ]
  },
  {
   "cell_type": "code",
   "execution_count": 8,
   "id": "88ac2494-9616-495b-9bfb-8545d557038f",
   "metadata": {},
   "outputs": [
    {
     "data": {
      "text/html": [
       "<div>\n",
       "<style scoped>\n",
       "    .dataframe tbody tr th:only-of-type {\n",
       "        vertical-align: middle;\n",
       "    }\n",
       "\n",
       "    .dataframe tbody tr th {\n",
       "        vertical-align: top;\n",
       "    }\n",
       "\n",
       "    .dataframe thead th {\n",
       "        text-align: right;\n",
       "    }\n",
       "</style>\n",
       "<table border=\"1\" class=\"dataframe\">\n",
       "  <thead>\n",
       "    <tr style=\"text-align: right;\">\n",
       "      <th></th>\n",
       "      <th>sentiment</th>\n",
       "      <th>content</th>\n",
       "    </tr>\n",
       "  </thead>\n",
       "  <tbody>\n",
       "    <tr>\n",
       "      <th>0</th>\n",
       "      <td>joy</td>\n",
       "      <td>on days when i feel close to my partner and ot...</td>\n",
       "    </tr>\n",
       "    <tr>\n",
       "      <th>1</th>\n",
       "      <td>fear</td>\n",
       "      <td>every time i imagine that someone i love or i ...</td>\n",
       "    </tr>\n",
       "    <tr>\n",
       "      <th>2</th>\n",
       "      <td>anger</td>\n",
       "      <td>when i had been obviously unjustly treated and...</td>\n",
       "    </tr>\n",
       "    <tr>\n",
       "      <th>3</th>\n",
       "      <td>sadness</td>\n",
       "      <td>when i think about the short time that we live...</td>\n",
       "    </tr>\n",
       "    <tr>\n",
       "      <th>4</th>\n",
       "      <td>disgust</td>\n",
       "      <td>at a gathering i found myself involuntarily si...</td>\n",
       "    </tr>\n",
       "  </tbody>\n",
       "</table>\n",
       "</div>"
      ],
      "text/plain": [
       "  sentiment                                            content\n",
       "0       joy  on days when i feel close to my partner and ot...\n",
       "1      fear  every time i imagine that someone i love or i ...\n",
       "2     anger  when i had been obviously unjustly treated and...\n",
       "3   sadness  when i think about the short time that we live...\n",
       "4   disgust  at a gathering i found myself involuntarily si..."
      ]
     },
     "execution_count": 8,
     "metadata": {},
     "output_type": "execute_result"
    }
   ],
   "source": [
    "data.head(5)"
   ]
  },
  {
   "cell_type": "code",
   "execution_count": 9,
   "id": "d83ddc94-8461-4d70-b4ae-964b1fbf3513",
   "metadata": {},
   "outputs": [],
   "source": [
    "# Remove white space and special characters.\n",
    "data['content'] = data['content'].apply(lambda a: \" \".join(a.replace('[^\\w\\s]','') for a in a.split()))"
   ]
  },
  {
   "cell_type": "code",
   "execution_count": 10,
   "id": "364ce253-9a9d-44df-abca-662870748de4",
   "metadata": {},
   "outputs": [],
   "source": [
    "# Remove the stop words.\n",
    "stop = stopwords.words('english')\n",
    "data['content'] = data['content'].apply(lambda a: \" \".join(a for\n",
    "a in a.split() if a not in stop))"
   ]
  },
  {
   "cell_type": "code",
   "execution_count": 11,
   "id": "c9d4c312-a6b2-4744-8d6c-14c0c97cffb6",
   "metadata": {},
   "outputs": [
    {
     "data": {
      "text/html": [
       "<div>\n",
       "<style scoped>\n",
       "    .dataframe tbody tr th:only-of-type {\n",
       "        vertical-align: middle;\n",
       "    }\n",
       "\n",
       "    .dataframe tbody tr th {\n",
       "        vertical-align: top;\n",
       "    }\n",
       "\n",
       "    .dataframe thead th {\n",
       "        text-align: right;\n",
       "    }\n",
       "</style>\n",
       "<table border=\"1\" class=\"dataframe\">\n",
       "  <thead>\n",
       "    <tr style=\"text-align: right;\">\n",
       "      <th></th>\n",
       "      <th>sentiment</th>\n",
       "      <th>content</th>\n",
       "    </tr>\n",
       "  </thead>\n",
       "  <tbody>\n",
       "    <tr>\n",
       "      <th>0</th>\n",
       "      <td>joy</td>\n",
       "      <td>days feel close partner friends. feel peace al...</td>\n",
       "    </tr>\n",
       "    <tr>\n",
       "      <th>1</th>\n",
       "      <td>fear</td>\n",
       "      <td>every time imagine someone love could contact ...</td>\n",
       "    </tr>\n",
       "    <tr>\n",
       "      <th>2</th>\n",
       "      <td>anger</td>\n",
       "      <td>obviously unjustly treated possibility elucida...</td>\n",
       "    </tr>\n",
       "    <tr>\n",
       "      <th>3</th>\n",
       "      <td>sadness</td>\n",
       "      <td>think short time live relate periods life thin...</td>\n",
       "    </tr>\n",
       "    <tr>\n",
       "      <th>4</th>\n",
       "      <td>disgust</td>\n",
       "      <td>gathering found involuntarily sitting next two...</td>\n",
       "    </tr>\n",
       "  </tbody>\n",
       "</table>\n",
       "</div>"
      ],
      "text/plain": [
       "  sentiment                                            content\n",
       "0       joy  days feel close partner friends. feel peace al...\n",
       "1      fear  every time imagine someone love could contact ...\n",
       "2     anger  obviously unjustly treated possibility elucida...\n",
       "3   sadness  think short time live relate periods life thin...\n",
       "4   disgust  gathering found involuntarily sitting next two..."
      ]
     },
     "execution_count": 11,
     "metadata": {},
     "output_type": "execute_result"
    }
   ],
   "source": [
    "data.head(5)"
   ]
  },
  {
   "cell_type": "code",
   "execution_count": 12,
   "id": "33f3a8fd-b7f2-4899-979b-59716c006f47",
   "metadata": {},
   "outputs": [],
   "source": [
    "# Correct spelling.\n",
    "data['content'] = data['content'].apply(lambda a:str(TextBlob(a).correct()))"
   ]
  },
  {
   "cell_type": "code",
   "execution_count": 13,
   "id": "31fa5d56-2ade-4f2d-a534-675fcf8d325a",
   "metadata": {},
   "outputs": [
    {
     "data": {
      "text/html": [
       "<div>\n",
       "<style scoped>\n",
       "    .dataframe tbody tr th:only-of-type {\n",
       "        vertical-align: middle;\n",
       "    }\n",
       "\n",
       "    .dataframe tbody tr th {\n",
       "        vertical-align: top;\n",
       "    }\n",
       "\n",
       "    .dataframe thead th {\n",
       "        text-align: right;\n",
       "    }\n",
       "</style>\n",
       "<table border=\"1\" class=\"dataframe\">\n",
       "  <thead>\n",
       "    <tr style=\"text-align: right;\">\n",
       "      <th></th>\n",
       "      <th>sentiment</th>\n",
       "      <th>content</th>\n",
       "    </tr>\n",
       "  </thead>\n",
       "  <tbody>\n",
       "    <tr>\n",
       "      <th>0</th>\n",
       "      <td>joy</td>\n",
       "      <td>days feel close partner friends. feel peace al...</td>\n",
       "    </tr>\n",
       "    <tr>\n",
       "      <th>1</th>\n",
       "      <td>fear</td>\n",
       "      <td>every time imagine someone love could contact ...</td>\n",
       "    </tr>\n",
       "    <tr>\n",
       "      <th>2</th>\n",
       "      <td>anger</td>\n",
       "      <td>obviously unjustly treated possibility elucida...</td>\n",
       "    </tr>\n",
       "    <tr>\n",
       "      <th>3</th>\n",
       "      <td>sadness</td>\n",
       "      <td>think short time live relate periods life thin...</td>\n",
       "    </tr>\n",
       "    <tr>\n",
       "      <th>4</th>\n",
       "      <td>disgust</td>\n",
       "      <td>gathering found involuntarily sitting next two...</td>\n",
       "    </tr>\n",
       "  </tbody>\n",
       "</table>\n",
       "</div>"
      ],
      "text/plain": [
       "  sentiment                                            content\n",
       "0       joy  days feel close partner friends. feel peace al...\n",
       "1      fear  every time imagine someone love could contact ...\n",
       "2     anger  obviously unjustly treated possibility elucida...\n",
       "3   sadness  think short time live relate periods life thin...\n",
       "4   disgust  gathering found involuntarily sitting next two..."
      ]
     },
     "execution_count": 13,
     "metadata": {},
     "output_type": "execute_result"
    }
   ],
   "source": [
    "data.head()"
   ]
  },
  {
   "cell_type": "code",
   "execution_count": 14,
   "id": "337f5364-a80b-4ccc-b811-df57c221f237",
   "metadata": {},
   "outputs": [],
   "source": [
    "# Do stemming.\n",
    "st = PorterStemmer()\n",
    "data['content'] = data['content'].apply(lambda a: \" \".join([st.stem(word) for word in a.split()]))"
   ]
  },
  {
   "cell_type": "code",
   "execution_count": 15,
   "id": "dea1e6ed-93e7-4b95-b409-804fd1d04451",
   "metadata": {},
   "outputs": [
    {
     "data": {
      "text/html": [
       "<div>\n",
       "<style scoped>\n",
       "    .dataframe tbody tr th:only-of-type {\n",
       "        vertical-align: middle;\n",
       "    }\n",
       "\n",
       "    .dataframe tbody tr th {\n",
       "        vertical-align: top;\n",
       "    }\n",
       "\n",
       "    .dataframe thead th {\n",
       "        text-align: right;\n",
       "    }\n",
       "</style>\n",
       "<table border=\"1\" class=\"dataframe\">\n",
       "  <thead>\n",
       "    <tr style=\"text-align: right;\">\n",
       "      <th></th>\n",
       "      <th>sentiment</th>\n",
       "      <th>content</th>\n",
       "    </tr>\n",
       "  </thead>\n",
       "  <tbody>\n",
       "    <tr>\n",
       "      <th>0</th>\n",
       "      <td>joy</td>\n",
       "      <td>day feel close partner friends. feel peac also...</td>\n",
       "    </tr>\n",
       "    <tr>\n",
       "      <th>1</th>\n",
       "      <td>fear</td>\n",
       "      <td>everi time imagin someon love could contact se...</td>\n",
       "    </tr>\n",
       "    <tr>\n",
       "      <th>2</th>\n",
       "      <td>anger</td>\n",
       "      <td>obvious unjustli treat possibl elucid this.</td>\n",
       "    </tr>\n",
       "    <tr>\n",
       "      <th>3</th>\n",
       "      <td>sadness</td>\n",
       "      <td>think short time live relat period life think ...</td>\n",
       "    </tr>\n",
       "    <tr>\n",
       "      <th>4</th>\n",
       "      <td>disgust</td>\n",
       "      <td>gather found involuntarili sit next two peopl ...</td>\n",
       "    </tr>\n",
       "  </tbody>\n",
       "</table>\n",
       "</div>"
      ],
      "text/plain": [
       "  sentiment                                            content\n",
       "0       joy  day feel close partner friends. feel peac also...\n",
       "1      fear  everi time imagin someon love could contact se...\n",
       "2     anger        obvious unjustli treat possibl elucid this.\n",
       "3   sadness  think short time live relat period life think ...\n",
       "4   disgust  gather found involuntarili sit next two peopl ..."
      ]
     },
     "execution_count": 15,
     "metadata": {},
     "output_type": "execute_result"
    }
   ],
   "source": [
    "data.head()"
   ]
  },
  {
   "cell_type": "code",
   "execution_count": 16,
   "id": "9c3fe7c9-94e0-4827-8806-a8ae0dc02587",
   "metadata": {
    "scrolled": true
   },
   "outputs": [
    {
     "data": {
      "text/plain": [
       "sentiment\n",
       "joy        1092\n",
       "sadness    1082\n",
       "anger      1079\n",
       "fear       1076\n",
       "shame      1071\n",
       "disgust    1066\n",
       "guilt      1049\n",
       "guit          1\n",
       "Name: count, dtype: int64"
      ]
     },
     "execution_count": 16,
     "metadata": {},
     "output_type": "execute_result"
    }
   ],
   "source": [
    "data['sentiment'].value_counts()"
   ]
  },
  {
   "cell_type": "code",
   "execution_count": 19,
   "id": "ce92f2c9-f5e8-4d02-8980-f50379400ae7",
   "metadata": {},
   "outputs": [],
   "source": [
    "# droping guit row \n",
    "data = data[data['sentiment'] != 'guit']"
   ]
  },
  {
   "cell_type": "code",
   "execution_count": 21,
   "id": "b3f695dd-1ed4-47c8-bc7c-c5a40f477f6c",
   "metadata": {},
   "outputs": [
    {
     "data": {
      "text/plain": [
       "sentiment\n",
       "joy        1092\n",
       "sadness    1082\n",
       "anger      1079\n",
       "fear       1076\n",
       "shame      1071\n",
       "disgust    1066\n",
       "guilt      1049\n",
       "Name: count, dtype: int64"
      ]
     },
     "execution_count": 21,
     "metadata": {},
     "output_type": "execute_result"
    }
   ],
   "source": [
    "data['sentiment'].value_counts()"
   ]
  },
  {
   "cell_type": "code",
   "execution_count": 23,
   "id": "a01fb591-8e14-490b-b1bc-b77bbe1ed1f0",
   "metadata": {},
   "outputs": [],
   "source": [
    "#Labels encode the target variable\n",
    "object = preprocessing.LabelEncoder()\n",
    "data['sentiment'] = object.fit_transform(data['sentiment'])"
   ]
  },
  {
   "cell_type": "code",
   "execution_count": 103,
   "id": "17882a51-6a5d-4b48-b799-54cfedccdc69",
   "metadata": {},
   "outputs": [
    {
     "data": {
      "image/png": "[encoded data removed]",
      "text/plain": [
       "<Figure size 640x480 with 1 Axes>"
      ]
     },
     "metadata": {},
     "output_type": "display_data"
    }
   ],
   "source": [
    "plt.pie(data['sentiment'].value_counts() , labels = ['Joy','Sadness','Anger','Fear','Shame','Disgust','Guilt'] , autopct = '%0.2f')\n",
    "plt.show()"
   ]
  },
  {
   "cell_type": "code",
   "execution_count": 73,
   "id": "f69a344d-6cef-4e4e-b8f1-e004fb53fc63",
   "metadata": {},
   "outputs": [],
   "source": [
    "#train-test split\n",
    "Xtrain , Xtest , Ytrain , Ytest = model_selection.train_test_split(data['content'], data['sentiment'],stratify= data['sentiment'])"
   ]
  },
  {
   "cell_type": "code",
   "execution_count": 74,
   "id": "7931a55b-c8e1-4b19-af38-19ece79e1fb9",
   "metadata": {},
   "outputs": [],
   "source": [
    "# CountVectorizer\n",
    "cv = CountVectorizer()\n",
    "cv.fit(data['content'])\n",
    "cv_xtrain = cv.transform(Xtrain)\n",
    "cv_xtest = cv.transform(Xtest)"
   ]
  },
  {
   "cell_type": "code",
   "execution_count": 75,
   "id": "be010373-c9a1-4814-ac6a-9a9b9fb7c470",
   "metadata": {},
   "outputs": [],
   "source": [
    "# TF-IDF\n",
    "tv = TfidfVectorizer()\n",
    "tv.fit(data['content'])\n",
    "tv_xtrain = tv.transform(Xtrain)\n",
    "tv_xtest = tv.transform(Xtest)"
   ]
  },
  {
   "cell_type": "code",
   "execution_count": 76,
   "id": "963d6494-6e9b-443e-80d7-9df85dc3ca97",
   "metadata": {},
   "outputs": [],
   "source": [
    "def build(model_initializer, independent_variables_training, target,independent_variable_test):\n",
    "    # fit\n",
    "    model_initializer.fit(independent_variables_training, target)\n",
    "    # predict\n",
    "    modelPred=model_initializer.predict(independent_variable_test)\n",
    "    return metrics.accuracy_score(modelPred, Ytest)"
   ]
  },
  {
   "cell_type": "markdown",
   "id": "0b5ae428-874e-4298-9105-338c6154d891",
   "metadata": {},
   "source": [
    " # Naive Bayes"
   ]
  },
  {
   "cell_type": "code",
   "execution_count": 79,
   "id": "6d0a5770-dce1-4155-b9c2-86928d02deaa",
   "metadata": {},
   "outputs": [
    {
     "name": "stdout",
     "output_type": "stream",
     "text": [
      "0.5651942522618414\n"
     ]
    }
   ],
   "source": [
    "#Multinomial on countvector\n",
    "output = build(naive_bayes.MultinomialNB(), cv_xtrain, Ytrain, cv_xtest)\n",
    "print(output)"
   ]
  },
  {
   "cell_type": "code",
   "execution_count": 78,
   "id": "513e167a-0c47-40c1-999f-a6a5b8e70bd5",
   "metadata": {},
   "outputs": [
    {
     "name": "stdout",
     "output_type": "stream",
     "text": [
      "0.5731772219265566\n"
     ]
    }
   ],
   "source": [
    "#Multinomial on TfidfVectorizer\n",
    "output = build(naive_bayes.MultinomialNB(), tv_xtrain, Ytrain, tv_xtest)\n",
    "print(output)"
   ]
  },
  {
   "cell_type": "code",
   "execution_count": 80,
   "id": "41316831-e625-4f7d-87e9-9a852e83b999",
   "metadata": {},
   "outputs": [
    {
     "name": "stdout",
     "output_type": "stream",
     "text": [
      "0.35071846726982436\n"
     ]
    }
   ],
   "source": [
    "#GaussianNB on countvector\n",
    "output = build(naive_bayes.GaussianNB(), cv_xtrain.toarray(), Ytrain, cv_xtest.toarray())\n",
    "print(output)"
   ]
  },
  {
   "cell_type": "code",
   "execution_count": 81,
   "id": "248a55c9-668c-4560-906b-330470584075",
   "metadata": {},
   "outputs": [
    {
     "name": "stdout",
     "output_type": "stream",
     "text": [
      "0.35763704097924426\n"
     ]
    }
   ],
   "source": [
    "#GaussianNB on TfidfVectorizer\n",
    "output = build(naive_bayes.GaussianNB(), tv_xtrain.toarray(), Ytrain, tv_xtest.toarray())\n",
    "print(output)"
   ]
  },
  {
   "cell_type": "code",
   "execution_count": 82,
   "id": "d3b49ea1-2ade-4af7-bef2-8c9fbf2b08aa",
   "metadata": {},
   "outputs": [
    {
     "name": "stdout",
     "output_type": "stream",
     "text": [
      "0.5673230441724322\n"
     ]
    }
   ],
   "source": [
    "#BernoulliNB on countvector\n",
    "output = build(naive_bayes.BernoulliNB(), cv_xtrain, Ytrain, cv_xtest)\n",
    "print(output)"
   ]
  },
  {
   "cell_type": "code",
   "execution_count": 83,
   "id": "9397deee-e96a-4310-8bb8-012651686ee5",
   "metadata": {},
   "outputs": [
    {
     "name": "stdout",
     "output_type": "stream",
     "text": [
      "0.5673230441724322\n"
     ]
    }
   ],
   "source": [
    "#BernoulliNB on TfidfVectorizer\n",
    "output = build(naive_bayes.BernoulliNB(), tv_xtrain, Ytrain, tv_xtest)\n",
    "print(output)"
   ]
  },
  {
   "cell_type": "markdown",
   "id": "544c2229-efda-4c1c-9307-c30b2cf7885b",
   "metadata": {},
   "source": [
    "# Linear Classifier/Logistic Regression"
   ]
  },
  {
   "cell_type": "code",
   "execution_count": 84,
   "id": "585bc2cc-1c49-42cd-8a12-6686333e82f6",
   "metadata": {},
   "outputs": [
    {
     "name": "stdout",
     "output_type": "stream",
     "text": [
      "0.5646620542841937\n"
     ]
    }
   ],
   "source": [
    "# for CV\n",
    "output = build(linear_model.LogisticRegression(), cv_xtrain, Ytrain,cv_xtest)\n",
    "print(output)"
   ]
  },
  {
   "cell_type": "code",
   "execution_count": 85,
   "id": "a62f2e0b-70cb-455f-9dae-d083bb3bbd61",
   "metadata": {},
   "outputs": [
    {
     "name": "stdout",
     "output_type": "stream",
     "text": [
      "0.5827567855242151\n"
     ]
    }
   ],
   "source": [
    "# for TF-IDF\n",
    "output = build(linear_model.LogisticRegression(), tv_xtrain, Ytrain,tv_xtest)\n",
    "print(output)"
   ]
  },
  {
   "cell_type": "markdown",
   "id": "7cfa10c1-85da-4ad3-8b22-d99f5470fef2",
   "metadata": {},
   "source": [
    "# Support-Vector Machine"
   ]
  },
  {
   "cell_type": "code",
   "execution_count": 86,
   "id": "680ad72d-8ce2-4a95-b047-a97679ca91be",
   "metadata": {},
   "outputs": [
    {
     "name": "stdout",
     "output_type": "stream",
     "text": [
      "0.5470995210218201\n"
     ]
    }
   ],
   "source": [
    "#for cv\n",
    "output = build(svm.SVC(), cv_xtrain, Ytrain, cv_xtest)\n",
    "print(output)"
   ]
  },
  {
   "cell_type": "code",
   "execution_count": 87,
   "id": "28d60b10-d615-412a-865a-74a60aa54235",
   "metadata": {},
   "outputs": [
    {
     "name": "stdout",
     "output_type": "stream",
     "text": [
      "0.5774348057477382\n"
     ]
    }
   ],
   "source": [
    "#for TF-IDF\n",
    "output = build(svm.SVC(), tv_xtrain, Ytrain, tv_xtest)\n",
    "print(output)"
   ]
  },
  {
   "cell_type": "markdown",
   "id": "315dd6a9-29e5-488b-9f73-b20c12869a92",
   "metadata": {},
   "source": [
    "# Random forest"
   ]
  },
  {
   "cell_type": "code",
   "execution_count": 107,
   "id": "e56b988b-676c-49e7-9b96-f0d5c6c73535",
   "metadata": {},
   "outputs": [
    {
     "name": "stdout",
     "output_type": "stream",
     "text": [
      "0.5481639169771155\n"
     ]
    }
   ],
   "source": [
    "#for CV\n",
    "output = build(ensemble.RandomForestClassifier(), cv_xtrain, Ytrain,cv_xtest)\n",
    "print(output)"
   ]
  },
  {
   "cell_type": "code",
   "execution_count": 88,
   "id": "7f94e417-4ff6-4a1c-86e2-ddb44891b4ca",
   "metadata": {},
   "outputs": [
    {
     "name": "stdout",
     "output_type": "stream",
     "text": [
      "0.5545502927088877\n"
     ]
    }
   ],
   "source": [
    "#for TF-IDF\n",
    "output = build(ensemble.RandomForestClassifier(), tv_xtrain, Ytrain,tv_xtest)\n",
    "print(output)\n"
   ]
  },
  {
   "cell_type": "markdown",
   "id": "8be2d157-28fe-4bd2-bf2f-3b45a9cf3054",
   "metadata": {},
   "source": [
    "# Confusion Matrix for the Selected Model"
   ]
  },
  {
   "cell_type": "code",
   "execution_count": 108,
   "id": "eb3d8832-8718-45e4-a2a0-2ca5560aefe2",
   "metadata": {},
   "outputs": [],
   "source": [
    "classifier = linear_model.LogisticRegression().fit(tv_xtrain, Ytrain)\n",
    "val_predictions = classifier.predict(tv_xtest)"
   ]
  },
  {
   "cell_type": "code",
   "execution_count": 109,
   "id": "b40389b5-5275-4ca2-916f-b22af52d0fe9",
   "metadata": {},
   "outputs": [
    {
     "name": "stdout",
     "output_type": "stream",
     "text": [
      "              precision    recall  f1-score   support\n",
      "\n",
      "           0       0.47      0.50      0.49       270\n",
      "           1       0.57      0.64      0.60       266\n",
      "           2       0.67      0.68      0.68       269\n",
      "           3       0.47      0.47      0.47       262\n",
      "           4       0.70      0.70      0.70       273\n",
      "           5       0.69      0.59      0.63       271\n",
      "           6       0.52      0.50      0.51       268\n",
      "\n",
      "    accuracy                           0.58      1879\n",
      "   macro avg       0.58      0.58      0.58      1879\n",
      "weighted avg       0.59      0.58      0.58      1879\n",
      "\n",
      "\n"
     ]
    }
   ],
   "source": [
    "# Precision , Recall , F1 - score , Support\n",
    "y_true, y_pred = Ytest, val_predictions\n",
    "print(classification_report(y_true, y_pred))\n",
    "print()"
   ]
  },
  {
   "cell_type": "code",
   "execution_count": null,
   "id": "aada361e-1b24-4d3e-855c-c434f3aa73e4",
   "metadata": {},
   "outputs": [],
   "source": []
  }
 ],
 "metadata": {
  "kernelspec": {
   "display_name": "Python 3 (ipykernel)",
   "language": "python",
   "name": "python3"
  },
  "language_info": {
   "codemirror_mode": {
    "name": "ipython",
    "version": 3
   },
   "file_extension": ".py",
   "mimetype": "text/x-python",
   "name": "python",
   "nbconvert_exporter": "python",
   "pygments_lexer": "ipython3",
   "version": "3.12.7"
  }
 },
 "nbformat": 4,
 "nbformat_minor": 5
}
